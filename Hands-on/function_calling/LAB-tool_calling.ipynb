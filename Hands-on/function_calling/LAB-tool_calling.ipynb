{
 "cells": [
  {
   "cell_type": "markdown",
   "metadata": {},
   "source": [
    "<img src=\"https://71022.cdn.cke-cs.com/RructTCFEHceQFc13ldy/images/6dbe93b28dbb43fbc9d50623b68a675a1fedd7608af93b46.png\" srcset=\"https://71022.cdn.cke-cs.com/RructTCFEHceQFc13ldy/images/6dbe93b28dbb43fbc9d50623b68a675a1fedd7608af93b46.png/w_130 130w, https://71022.cdn.cke-cs.com/RructTCFEHceQFc13ldy/images/6dbe93b28dbb43fbc9d50623b68a675a1fedd7608af93b46.png/w_260 260w, https://71022.cdn.cke-cs.com/RructTCFEHceQFc13ldy/images/6dbe93b28dbb43fbc9d50623b68a675a1fedd7608af93b46.png/w_390 390w, https://71022.cdn.cke-cs.com/RructTCFEHceQFc13ldy/images/6dbe93b28dbb43fbc9d50623b68a675a1fedd7608af93b46.png/w_520 520w, https://71022.cdn.cke-cs.com/RructTCFEHceQFc13ldy/images/6dbe93b28dbb43fbc9d50623b68a675a1fedd7608af93b46.png/w_650 650w, https://71022.cdn.cke-cs.com/RructTCFEHceQFc13ldy/images/6dbe93b28dbb43fbc9d50623b68a675a1fedd7608af93b46.png/w_780 780w, https://71022.cdn.cke-cs.com/RructTCFEHceQFc13ldy/images/6dbe93b28dbb43fbc9d50623b68a675a1fedd7608af93b46.png/w_910 910w, https://71022.cdn.cke-cs.com/RructTCFEHceQFc13ldy/images/6dbe93b28dbb43fbc9d50623b68a675a1fedd7608af93b46.png/w_1040 1040w, https://71022.cdn.cke-cs.com/RructTCFEHceQFc13ldy/images/6dbe93b28dbb43fbc9d50623b68a675a1fedd7608af93b46.png/w_1170 1170w, https://71022.cdn.cke-cs.com/RructTCFEHceQFc13ldy/images/6dbe93b28dbb43fbc9d50623b68a675a1fedd7608af93b46.png/w_1290 1290w\" sizes=\"100vw\" width=\"1290\">\n",
    "\n",
    "# Advanced Tool Calling with LangChain\n",
    "\n",
    "This lab demonstrates sophisticated tool calling with LangChain using a room booking system scenario. You'll learn how to implement type-safe tools with proper annotations and compose multiple tools into a cohesive system.\n",
    "\n",
    "Tasks and details:\n",
    "\n",
    "* All parts where you should implement something are marked with \"...\" or a sentence starting with \"TASK: \"\n",
    "* You'll implement four tools that work together:\n",
    "  1. User lookup - Get user details by username\n",
    "  2. Room listing - Find available rooms by capacity/features\n",
    "  3. Room booking - Book rooms with conflict checking\n",
    "  4. Booking history - View user's bookings\n",
    "* Each tool must be properly type-annotated and include error handling\n",
    "* The tools will be used by a LangChain agent to handle natural language booking requests\n",
    "\n",
    "If you need help:\n",
    "* Use the LangChain chat bot for anything about LangChain: https://chat.langchain.com/\n",
    "* For general questions you can use ChatGPT or free https://huggingface.co/chat/ with nvidia/Llama-3.1-Nemotron-70B-Instruct-HF LLM - you need a free HuggingFace account to login"
   ]
  },
  {
   "cell_type": "markdown",
   "metadata": {},
   "source": [
    "### Install required packages"
   ]
  },
  {
   "cell_type": "code",
   "execution_count": null,
   "metadata": {},
   "outputs": [],
   "source": [
    "!pip -q install langchain==0.3.7 langchain-openai==0.2.9 python-dateutil==2.8.2 python-dotenv"
   ]
  },
  {
   "cell_type": "markdown",
   "metadata": {},
   "source": [
    "### Read environment variables from .env"
   ]
  },
  {
   "cell_type": "code",
   "execution_count": null,
   "metadata": {},
   "outputs": [],
   "source": [
    "%load_ext dotenv\n",
    "%dotenv\n",
    "\n",
    "import os"
   ]
  },
  {
   "cell_type": "markdown",
   "metadata": {},
   "source": [
    "## Tools Implementation"
   ]
  },
  {
   "cell_type": "code",
   "execution_count": null,
   "metadata": {},
   "outputs": [],
   "source": [
    "from datetime import datetime, timedelta\n",
    "from typing import Dict, List, Optional, Union\n",
    "from dateutil.parser import parse\n",
    "from langchain_core.tools import tool\n",
    "from langchain_openai import ChatOpenAI\n",
    "from langchain.agents import create_openai_tools_agent, AgentExecutor\n",
    "from langchain.agents.agent import RunnableMultiActionAgent\n",
    "from langchain_core.prompts import ChatPromptTemplate, MessagesPlaceholder\n",
    "\n",
    "# Simulated database of users and bookings\n",
    "USER_DB = {\n",
    "    \"john.doe\": {\"id\": \"U123\", \"name\": \"John Doe\", \"department\": \"Engineering\"},\n",
    "    \"jane.smith\": {\"id\": \"U456\", \"name\": \"Jane Smith\", \"department\": \"Marketing\"}\n",
    "}\n",
    "\n",
    "ROOM_DB = {\n",
    "    \"A101\": {\"capacity\": 4, \"features\": [\"whiteboard\", \"projector\"]},\n",
    "    \"B202\": {\"capacity\": 8, \"features\": [\"whiteboard\", \"video-conf\"]},\n",
    "    \"C303\": {\"capacity\": 12, \"features\": [\"whiteboard\", \"projector\", \"video-conf\"]}\n",
    "}\n",
    "\n",
    "BOOKINGS_DB: List[Dict] = []  # Stores active bookings\n",
    "\n",
    "# TASK: Implement the get_user_info tool\n",
    "# This tool should look up a user by username and return their information\n",
    "@tool\n",
    "def get_user_info(username: str) -> Union[Dict[str, str], str]:\n",
    "    \"\"\"Retrieve user information from the system.\n",
    "\n",
    "    Args:\n",
    "        username (str): The username to look up (e.g., 'john.doe')\n",
    "\n",
    "    Returns:\n",
    "        Dict[str, str]: User information including ID, name, and department\n",
    "\n",
    "    Raises:\n",
    "        ValueError: If the username is not found\n",
    "    \"\"\"\n",
    "    ...\n",
    "\n",
    "# TASK: Implement the list_available_rooms tool\n",
    "# This tool should return rooms matching capacity and feature requirements\n",
    "@tool\n",
    "def list_available_rooms(capacity: Optional[int] = None, features: Optional[List[str]] = None) -> Union[List[str], str]:\n",
    "    \"\"\"List available meeting rooms matching the criteria.\n",
    "\n",
    "    Args:\n",
    "        capacity (Optional[int]): Minimum required capacity\n",
    "        features (Optional[List[str]]): Required features (e.g., ['whiteboard', 'projector'])\n",
    "\n",
    "    Returns:\n",
    "        List[str]: List of room IDs matching the criteria\n",
    "    \"\"\"\n",
    "    ...\n",
    "\n",
    "# TASK: Implement the book_room tool\n",
    "# This tool should handle room booking with conflict checking\n",
    "@tool\n",
    "def book_room(\n",
    "    user_id: str,\n",
    "    room_id: str,\n",
    "    start_time: str,\n",
    "    duration_minutes: int\n",
    ") -> Union[Dict[str, Union[str, datetime]], str]:\n",
    "    \"\"\"Book a meeting room for a specified time period.\n",
    "\n",
    "    Args:\n",
    "        user_id (str): ID of the user making the booking\n",
    "        room_id (str): ID of the room to book\n",
    "        start_time (str): Start time in ISO format (YYYY-MM-DD HH:MM)\n",
    "        duration_minutes (int): Duration of booking in minutes\n",
    "\n",
    "    Returns:\n",
    "        Dict[str, Union[str, datetime]]: Booking confirmation with details\n",
    "\n",
    "    Raises:\n",
    "        ValueError: If the room is unavailable or inputs are invalid\n",
    "    \"\"\"\n",
    "    ...\n",
    "\n",
    "# TASK: Implement the get_user_bookings tool\n",
    "# This tool should return all bookings for a specific user\n",
    "@tool\n",
    "def get_user_bookings(user_id: str) -> List[Dict]:\n",
    "    \"\"\"Retrieve all bookings for a specific user.\n",
    "\n",
    "    Args:\n",
    "        user_id (str): ID of the user to look up bookings for\n",
    "\n",
    "    Returns:\n",
    "        List[Dict]: List of booking details for the user\n",
    "    \"\"\"\n",
    "    ..."
   ]
  },
  {
   "cell_type": "markdown",
   "metadata": {},
   "source": [
    "## Tools \"Agent\" Setup"
   ]
  },
  {
   "cell_type": "code",
   "execution_count": null,
   "metadata": {},
   "outputs": [],
   "source": [
    "# Use temperature=0 for consistent responses\n",
    "llm = ChatOpenAI(model=\"gpt-4o\", temperature=0)\n",
    "\n",
    "# TASK: Provide the tools to the agent\n",
    "tools = [...]\n",
    "\n",
    "# TASK: Create a prompt that helps the agent understand its role\n",
    "prompt = ChatPromptTemplate.from_messages([\n",
    "    (\"system\", \"...\"),\n",
    "    (\"user\", \"{input}\"),\n",
    "    MessagesPlaceholder(variable_name=\"agent_scratchpad\")\n",
    "])\n",
    "\n",
    "\n",
    "# TASK: Create the agent and executor\n",
    "agent = create_openai_tools_agent(...)\n",
    "agent_executor = AgentExecutor(...)\n",
    "\n",
    "# We can disbale response streaming like this:\n",
    "#if isinstance(agent_executor.agent, RunnableMultiActionAgent):\n",
    "#    agent_executor.agent.stream_runnable = False"
   ]
  },
  {
   "cell_type": "markdown",
   "metadata": {},
   "source": [
    "## Example Usage"
   ]
  },
  {
   "cell_type": "code",
   "execution_count": null,
   "metadata": {},
   "outputs": [],
   "source": [
    "# Test the booking system with a natural language request\n",
    "query = \"I am jane.smith, and I need to book a room for 6 people with a projector tomorrow at 3pm for 1 hour\"\n",
    "\n",
    "result = agent_executor.invoke({\"input\": query})\n",
    "print(result[\"output\"])"
   ]
  }
 ],
 "metadata": {
  "kernelspec": {
   "display_name": "Python 3",
   "language": "python",
   "name": "python3"
  },
  "language_info": {
   "codemirror_mode": {
    "name": "ipython",
    "version": 3
   },
   "file_extension": ".py",
   "mimetype": "text/x-python",
   "name": "python",
   "nbconvert_exporter": "python",
   "pygments_lexer": "ipython3",
   "version": "3.8.0"
  }
 },
 "nbformat": 4,
 "nbformat_minor": 4
}
