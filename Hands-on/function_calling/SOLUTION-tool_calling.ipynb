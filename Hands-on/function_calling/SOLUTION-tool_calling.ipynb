{
 "cells": [
  {
   "cell_type": "markdown",
   "metadata": {
    "id": "dAtkp-cnaNOP"
   },
   "source": [
    "<img src=\"https://71022.cdn.cke-cs.com/RructTCFEHceQFc13ldy/images/6dbe93b28dbb43fbc9d50623b68a675a1fedd7608af93b46.png\" srcset=\"https://71022.cdn.cke-cs.com/RructTCFEHceQFc13ldy/images/6dbe93b28dbb43fbc9d50623b68a675a1fedd7608af93b46.png/w_130 130w, https://71022.cdn.cke-cs.com/RructTCFEHceQFc13ldy/images/6dbe93b28dbb43fbc9d50623b68a675a1fedd7608af93b46.png/w_260 260w, https://71022.cdn.cke-cs.com/RructTCFEHceQFc13ldy/images/6dbe93b28dbb43fbc9d50623b68a675a1fedd7608af93b46.png/w_390 390w, https://71022.cdn.cke-cs.com/RructTCFEHceQFc13ldy/images/6dbe93b28dbb43fbc9d50623b68a675a1fedd7608af93b46.png/w_520 520w, https://71022.cdn.cke-cs.com/RructTCFEHceQFc13ldy/images/6dbe93b28dbb43fbc9d50623b68a675a1fedd7608af93b46.png/w_650 650w, https://71022.cdn.cke-cs.com/RructTCFEHceQFc13ldy/images/6dbe93b28dbb43fbc9d50623b68a675a1fedd7608af93b46.png/w_780 780w, https://71022.cdn.cke-cs.com/RructTCFEHceQFc13ldy/images/6dbe93b28dbb43fbc9d50623b68a675a1fedd7608af93b46.png/w_910 910w, https://71022.cdn.cke-cs.com/RructTCFEHceQFc13ldy/images/6dbe93b28dbb43fbc9d50623b68a675a1fedd7608af93b46.png/w_1040 1040w, https://71022.cdn.cke-cs.com/RructTCFEHceQFc13ldy/images/6dbe93b28dbb43fbc9d50623b68a675a1fedd7608af93b46.png/w_1170 1170w, https://71022.cdn.cke-cs.com/RructTCFEHceQFc13ldy/images/6dbe93b28dbb43fbc9d50623b68a675a1fedd7608af93b46.png/w_1290 1290w\" sizes=\"100vw\" width=\"1290\">\n",
    "\n",
    "# Advanced Tool Calling with LangChain\n",
    "\n",
    "This lab demonstrates sophisticated tool calling with LangChain using a room booking system scenario. You'll learn how to implement type-safe tools with proper annotations and compose multiple tools into a cohesive system.\n",
    "\n",
    "Key concepts covered:\n",
    "- Type-annotated tool implementations\n",
    "- Custom business logic\n",
    "- LangChain agent integration"
   ]
  },
  {
   "cell_type": "markdown",
   "metadata": {
    "id": "z7Ugk2rBaNOR"
   },
   "source": [
    "# Install required packages"
   ]
  },
  {
   "cell_type": "code",
   "execution_count": null,
   "metadata": {
    "colab": {
     "base_uri": "https://localhost:8080/"
    },
    "executionInfo": {
     "elapsed": 6064,
     "status": "ok",
     "timestamp": 1732620192197,
     "user": {
      "displayName": "Sebastian Gingter",
      "userId": "03749202599653192620"
     },
     "user_tz": -60
    },
    "id": "Ms0j2JbCaNOR",
    "outputId": "aacf7e09-b2dc-45d4-c607-4c199a301c4f"
   },
   "outputs": [],
   "source": [
    "!pip -q install langchain==0.3.7 langchain-openai==0.2.9 python-dateutil==2.8.2 python-dotenv"
   ]
  },
  {
   "cell_type": "markdown",
   "metadata": {
    "id": "KB8BOBW5aNOS"
   },
   "source": [
    "### Read environment variables from .env"
   ]
  },
  {
   "cell_type": "code",
   "execution_count": null,
   "metadata": {
    "executionInfo": {
     "elapsed": 876,
     "status": "ok",
     "timestamp": 1732620193069,
     "user": {
      "displayName": "Sebastian Gingter",
      "userId": "03749202599653192620"
     },
     "user_tz": -60
    },
    "id": "eqKLqH_SaNOS"
   },
   "outputs": [],
   "source": [
    "%load_ext dotenv\n",
    "%dotenv\n",
    "\n",
    "import os"
   ]
  },
  {
   "cell_type": "markdown",
   "metadata": {
    "id": "CR8sdXmPaNOS"
   },
   "source": [
    "## Tools Implementation\n",
    "\n",
    "We'll create four tools that work together:\n",
    "1. User lookup - Get user details by username\n",
    "2. Room listing - Find available rooms by capacity/features\n",
    "3. Room booking - Book rooms with conflict checking\n",
    "4. Booking history - View user's bookings"
   ]
  },
  {
   "cell_type": "code",
   "execution_count": null,
   "metadata": {
    "executionInfo": {
     "elapsed": 10925,
     "status": "ok",
     "timestamp": 1732620205547,
     "user": {
      "displayName": "Sebastian Gingter",
      "userId": "03749202599653192620"
     },
     "user_tz": -60
    },
    "id": "nq85xst7aNOS"
   },
   "outputs": [],
   "source": [
    "from datetime import datetime, timedelta\n",
    "from typing import Dict, List, Optional, Union\n",
    "from dateutil.parser import parse\n",
    "from langchain_core.tools import tool\n",
    "from langchain_openai import ChatOpenAI\n",
    "from langchain.agents import create_openai_tools_agent, AgentExecutor\n",
    "from langchain.agents.agent import RunnableMultiActionAgent\n",
    "from langchain_core.prompts import ChatPromptTemplate, MessagesPlaceholder\n",
    "\n",
    "# Simulated database of users and bookings\n",
    "USER_DB = {\n",
    "    \"john.doe\": {\"id\": \"U123\", \"name\": \"John Doe\", \"department\": \"Engineering\"},\n",
    "    \"jane.smith\": {\"id\": \"U456\", \"name\": \"Jane Smith\", \"department\": \"Marketing\"}\n",
    "}\n",
    "\n",
    "ROOM_DB = {\n",
    "    \"A101\": {\"capacity\": 4, \"features\": [\"whiteboard\", \"projector\"]},\n",
    "    \"B202\": {\"capacity\": 8, \"features\": [\"whiteboard\", \"video-conf\"]},\n",
    "    \"C303\": {\"capacity\": 12, \"features\": [\"whiteboard\", \"projector\", \"video-conf\"]}\n",
    "}\n",
    "\n",
    "BOOKINGS_DB: List[Dict] = []  # Stores active bookings"
   ]
  },
  {
   "cell_type": "code",
   "execution_count": null,
   "metadata": {
    "executionInfo": {
     "elapsed": 228,
     "status": "ok",
     "timestamp": 1732620470488,
     "user": {
      "displayName": "Sebastian Gingter",
      "userId": "03749202599653192620"
     },
     "user_tz": -60
    },
    "id": "vlHpre1SaNOS"
   },
   "outputs": [],
   "source": [
    "@tool\n",
    "def get_user_info(username: str) -> Union[Dict[str, str], str]:\n",
    "    \"\"\"Retrieve user information from the system.\n",
    "\n",
    "    Args:\n",
    "        username (str): The username to look up (e.g., 'john.doe')\n",
    "\n",
    "    Returns:\n",
    "        Dict[str, str]: User information including ID, name, and department\n",
    "\n",
    "    Raises:\n",
    "        ValueError: If the username is not found\n",
    "    \"\"\"\n",
    "    if username not in USER_DB:\n",
    "        return f\"User '{username}' not found\"\n",
    "\n",
    "    return USER_DB[username]\n",
    "\n",
    "@tool\n",
    "def list_available_rooms(capacity: Optional[int] = None, features: Optional[List[str]] = None) -> Union[List[str], str]:\n",
    "    \"\"\"List available meeting rooms matching the criteria.\n",
    "\n",
    "    Args:\n",
    "        capacity (Optional[int]): Minimum required capacity\n",
    "        features (Optional[List[str]]): Required features (e.g., ['whiteboard', 'projector'])\n",
    "\n",
    "    Returns:\n",
    "        List[str]: List of room IDs matching the criteria\n",
    "    \"\"\"\n",
    "    available_rooms = []\n",
    "\n",
    "    for room_id, room_info in ROOM_DB.items():\n",
    "        if capacity and room_info['capacity'] < capacity:\n",
    "            continue\n",
    "\n",
    "        if features:\n",
    "            if not all(feature in room_info['features'] for feature in features):\n",
    "                continue\n",
    "\n",
    "        available_rooms.append(room_id)\n",
    "\n",
    "    return available_rooms\n",
    "\n",
    "@tool\n",
    "def book_room(\n",
    "    user_id: str,\n",
    "    room_id: str,\n",
    "    start_time: str,\n",
    "    duration_minutes: int\n",
    ") -> Union[Dict[str, Union[str, datetime]], str]:\n",
    "    \"\"\"Book a meeting room for a specified time period.\n",
    "\n",
    "    Args:\n",
    "        user_id (str): ID of the user making the booking\n",
    "        room_id (str): ID of the room to book\n",
    "        start_time (str): Start time in ISO format (YYYY-MM-DD HH:MM)\n",
    "        duration_minutes (int): Duration of booking in minutes\n",
    "\n",
    "    Returns:\n",
    "        Dict[str, Union[str, datetime]]: Booking confirmation with details\n",
    "\n",
    "    Raises:\n",
    "        ValueError: If the room is unavailable or inputs are invalid\n",
    "    \"\"\"\n",
    "    # Validate room exists\n",
    "    if room_id not in ROOM_DB:\n",
    "        return f\"Room '{room_id}' does not exist\"\n",
    "\n",
    "    # Parse and validate start time\n",
    "    try:\n",
    "        start_datetime = parse(start_time)\n",
    "    except ValueError:\n",
    "        return \"Invalid start time format. Use YYYY-MM-DD HH:MM\"\n",
    "\n",
    "    # Validate duration\n",
    "    if duration_minutes <= 0 or duration_minutes > 240:  # Max 4 hours\n",
    "        return \"Duration must be between 1 and 240 minutes\"\n",
    "\n",
    "    end_datetime = start_datetime + timedelta(minutes=duration_minutes)\n",
    "\n",
    "    # Check for conflicts\n",
    "    for booking in BOOKINGS_DB:\n",
    "        if booking['room_id'] == room_id:\n",
    "            booking_start = booking['start_time']\n",
    "            booking_end = booking['end_time']\n",
    "\n",
    "            if (start_datetime < booking_end and end_datetime > booking_start):\n",
    "                return f\"Room {room_id} is already booked during this time\"\n",
    "\n",
    "    # Create booking\n",
    "    booking = {\n",
    "        'booking_id': f'BK{len(BOOKINGS_DB)+1:03d}',\n",
    "        'user_id': user_id,\n",
    "        'room_id': room_id,\n",
    "        'start_time': start_datetime,\n",
    "        'end_time': end_datetime\n",
    "    }\n",
    "\n",
    "    BOOKINGS_DB.append(booking)\n",
    "\n",
    "    return booking\n",
    "\n",
    "@tool\n",
    "def get_user_bookings(user_id: str) -> List[Dict]:\n",
    "    \"\"\"Retrieve all bookings for a specific user.\n",
    "\n",
    "    Args:\n",
    "        user_id (str): ID of the user to look up bookings for\n",
    "\n",
    "    Returns:\n",
    "        List[Dict]: List of booking details for the user\n",
    "    \"\"\"\n",
    "    return [booking for booking in BOOKINGS_DB if booking['user_id'] == user_id]"
   ]
  },
  {
   "cell_type": "markdown",
   "metadata": {
    "id": "CPNrtkUXaNOT"
   },
   "source": [
    "## Tools \"Agent\" Setup\n",
    "\n",
    "Now we'll create a LangChain tools \"agent\" that can use our tools to handle natural language booking requests."
   ]
  },
  {
   "cell_type": "code",
   "execution_count": null,
   "metadata": {
    "executionInfo": {
     "elapsed": 415,
     "status": "ok",
     "timestamp": 1732620474280,
     "user": {
      "displayName": "Sebastian Gingter",
      "userId": "03749202599653192620"
     },
     "user_tz": -60
    },
    "id": "GmHfnepvaNOT"
   },
   "outputs": [],
   "source": [
    "# Initialize the LLM and create the agent\n",
    "llm = ChatOpenAI(model=\"gpt-4o\", temperature=0)\n",
    "\n",
    "from langchain_community.tools import HumanInputRun\n",
    "\n",
    "human_tool = HumanInputRun()\n",
    "tools = [human_tool, get_user_info, list_available_rooms, book_room, get_user_bookings]\n",
    "\n",
    "prompt = ChatPromptTemplate.from_messages([\n",
    "    (\"system\", \"You are a helpful assistant that manages room bookings. Use the available tools to help users book rooms and manage their reservations.\"),\n",
    "    (\"user\", \"{input}\"),\n",
    "    MessagesPlaceholder(variable_name=\"agent_scratchpad\")\n",
    "])\n",
    "\n",
    "agent = create_openai_tools_agent(llm, tools, prompt)\n",
    "agent_executor = AgentExecutor(agent=agent, tools=tools, verbose=True)\n",
    "\n",
    "if isinstance(agent_executor.agent, RunnableMultiActionAgent):\n",
    "    agent_executor.agent.stream_runnable = False"
   ]
  },
  {
   "cell_type": "markdown",
   "metadata": {
    "id": "o7S89QZ5aNOT"
   },
   "source": [
    "## Example Usage\n",
    "\n",
    "Let's test our booking system with a natural language request."
   ]
  },
  {
   "cell_type": "code",
   "execution_count": null,
   "metadata": {
    "colab": {
     "base_uri": "https://localhost:8080/"
    },
    "executionInfo": {
     "elapsed": 4677,
     "status": "ok",
     "timestamp": 1732620492106,
     "user": {
      "displayName": "Sebastian Gingter",
      "userId": "03749202599653192620"
     },
     "user_tz": -60
    },
    "id": "yXRyDxnraNOT",
    "outputId": "568b4f5c-f969-4de0-df12-2f6af1fdfc70"
   },
   "outputs": [],
   "source": [
    "# Example usage\n",
    "query = \"I am jane.smith, and I need to book a room for 6 people\" # with a projector tomorrow at 3pm for 1 hour\"\n",
    "\n",
    "result = agent_executor.invoke({\"input\": query})\n",
    "print(result[\"output\"])"
   ]
  }
 ],
 "metadata": {
  "colab": {
   "provenance": []
  },
  "kernelspec": {
   "display_name": "Python 3",
   "name": "python3"
  },
  "language_info": {
   "codemirror_mode": {
    "name": "ipython",
    "version": 3
   },
   "file_extension": ".py",
   "mimetype": "text/x-python",
   "name": "python",
   "nbconvert_exporter": "python",
   "pygments_lexer": "ipython3",
   "version": "3.11.11"
  }
 },
 "nbformat": 4,
 "nbformat_minor": 0
}
