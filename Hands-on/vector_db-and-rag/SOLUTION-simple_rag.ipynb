{
 "cells": [
  {
   "cell_type": "markdown",
   "metadata": {
    "id": "Vigmlask6ys0"
   },
   "source": [
    "<img src=\"https://71022.cdn.cke-cs.com/RructTCFEHceQFc13ldy/images/6dbe93b28dbb43fbc9d50623b68a675a1fedd7608af93b46.png\" srcset=\"https://71022.cdn.cke-cs.com/RructTCFEHceQFc13ldy/images/6dbe93b28dbb43fbc9d50623b68a675a1fedd7608af93b46.png/w_130 130w, https://71022.cdn.cke-cs.com/RructTCFEHceQFc13ldy/images/6dbe93b28dbb43fbc9d50623b68a675a1fedd7608af93b46.png/w_260 260w, https://71022.cdn.cke-cs.com/RructTCFEHceQFc13ldy/images/6dbe93b28dbb43fbc9d50623b68a675a1fedd7608af93b46.png/w_390 390w, https://71022.cdn.cke-cs.com/RructTCFEHceQFc13ldy/images/6dbe93b28dbb43fbc9d50623b68a675a1fedd7608af93b46.png/w_520 520w, https://71022.cdn.cke-cs.com/RructTCFEHceQFc13ldy/images/6dbe93b28dbb43fbc9d50623b68a675a1fedd7608af93b46.png/w_650 650w, https://71022.cdn.cke-cs.com/RructTCFEHceQFc13ldy/images/6dbe93b28dbb43fbc9d50623b68a675a1fedd7608af93b46.png/w_780 780w, https://71022.cdn.cke-cs.com/RructTCFEHceQFc13ldy/images/6dbe93b28dbb43fbc9d50623b68a675a1fedd7608af93b46.png/w_910 910w, https://71022.cdn.cke-cs.com/RructTCFEHceQFc13ldy/images/6dbe93b28dbb43fbc9d50623b68a675a1fedd7608af93b46.png/w_1040 1040w, https://71022.cdn.cke-cs.com/RructTCFEHceQFc13ldy/images/6dbe93b28dbb43fbc9d50623b68a675a1fedd7608af93b46.png/w_1170 1170w, https://71022.cdn.cke-cs.com/RructTCFEHceQFc13ldy/images/6dbe93b28dbb43fbc9d50623b68a675a1fedd7608af93b46.png/w_1290 1290w\" sizes=\"100vw\" width=\"1290\">\n"
   ]
  },
  {
   "cell_type": "markdown",
   "metadata": {
    "id": "6jh11ajrHjFC"
   },
   "source": [
    "## Load libraries"
   ]
  },
  {
   "cell_type": "code",
   "execution_count": null,
   "metadata": {
    "colab": {
     "base_uri": "https://localhost:8080/"
    },
    "executionInfo": {
     "elapsed": 20095,
     "status": "ok",
     "timestamp": 1732608845330,
     "user": {
      "displayName": "Marco Frodl",
      "userId": "15184785398550850138"
     },
     "user_tz": -60
    },
    "id": "pfrfCqwVVG_Y",
    "outputId": "1cf1eddb-1784-453e-e317-33fc99216043"
   },
   "outputs": [],
   "source": [
    "!pip -q install langchain==0.3.7 langchain-community==0.3.7 langchain-openai==0.2.9 langchain-qdrant==0.2.0 langchain-chroma==0.2.2 langfuse==2.53.9 python-dotenv"
   ]
  },
  {
   "cell_type": "markdown",
   "metadata": {
    "id": "XUC6k6SzJE5a"
   },
   "source": [
    "## Read environment variables from .env"
   ]
  },
  {
   "cell_type": "code",
   "execution_count": null,
   "metadata": {
    "executionInfo": {
     "elapsed": 8521,
     "status": "ok",
     "timestamp": 1732608819815,
     "user": {
      "displayName": "Marco Frodl",
      "userId": "15184785398550850138"
     },
     "user_tz": -60
    },
    "id": "7Aj0mSvhyJI5"
   },
   "outputs": [],
   "source": [
    "%load_ext dotenv\n",
    "%dotenv\n",
    "\n",
    "import os"
   ]
  },
  {
   "cell_type": "code",
   "execution_count": null,
   "metadata": {
    "id": "wsfvcpLnQyw_"
   },
   "outputs": [],
   "source": [
    "!pip show langchain\n",
    "!pip show langchain-openai"
   ]
  },
  {
   "cell_type": "markdown",
   "metadata": {
    "id": "vOP866IZG87z"
   },
   "source": [
    "## Prepare Langfuse"
   ]
  },
  {
   "cell_type": "code",
   "execution_count": null,
   "metadata": {
    "executionInfo": {
     "elapsed": 4049,
     "status": "ok",
     "timestamp": 1732608849376,
     "user": {
      "displayName": "Marco Frodl",
      "userId": "15184785398550850138"
     },
     "user_tz": -60
    },
    "id": "gdG06ivx5xV1"
   },
   "outputs": [],
   "source": [
    "# See https://langfuse.com/docs/get-started for more details\n",
    "from langfuse.callback import CallbackHandler\n",
    "\n",
    "handler = CallbackHandler()"
   ]
  },
  {
   "cell_type": "markdown",
   "metadata": {
    "id": "uZ9rNLLlGynT"
   },
   "source": [
    "## Prepare Embedding Model"
   ]
  },
  {
   "cell_type": "code",
   "execution_count": null,
   "metadata": {
    "executionInfo": {
     "elapsed": 3900,
     "status": "ok",
     "timestamp": 1732608853273,
     "user": {
      "displayName": "Marco Frodl",
      "userId": "15184785398550850138"
     },
     "user_tz": -60
    },
    "id": "5J6yuxU3MGKN"
   },
   "outputs": [],
   "source": [
    "# Let's use OpenAI for simplicity's sake\n",
    "from langchain_openai import OpenAIEmbeddings\n",
    " \n",
    "embeddings = OpenAIEmbeddings(model=\"text-embedding-3-large\")"
   ]
  },
  {
   "cell_type": "markdown",
   "metadata": {
    "id": "PflymEKFgBBl"
   },
   "source": [
    "## Prepare LLM"
   ]
  },
  {
   "cell_type": "code",
   "execution_count": null,
   "metadata": {
    "executionInfo": {
     "elapsed": 4389,
     "status": "ok",
     "timestamp": 1732608862778,
     "user": {
      "displayName": "Marco Frodl",
      "userId": "15184785398550850138"
     },
     "user_tz": -60
    },
    "id": "YJ3o8h7OgBBm"
   },
   "outputs": [],
   "source": [
    "from langchain_openai import ChatOpenAI\n",
    "\n",
    "TEMPERATURE = 0\n",
    "MAX_TOKENS = 1500\n",
    "\n",
    "MODEL_NAME = \"gpt-4o\"\n",
    "\n",
    "llm = ChatOpenAI(model=MODEL_NAME, temperature=TEMPERATURE, max_tokens=MAX_TOKENS)"
   ]
  },
  {
   "cell_type": "markdown",
   "metadata": {
    "id": "D_q17SDWHaSq"
   },
   "source": [
    "## Prepare demo data"
   ]
  },
  {
   "cell_type": "code",
   "execution_count": null,
   "metadata": {
    "executionInfo": {
     "elapsed": 1,
     "status": "ok",
     "timestamp": 1732608862778,
     "user": {
      "displayName": "Marco Frodl",
      "userId": "15184785398550850138"
     },
     "user_tz": -60
    },
    "id": "z--NwbulMAwI"
   },
   "outputs": [],
   "source": [
    "# data for Bond movies\n",
    "docs_movies = [\n",
    "\"Filmnummer: 1\tJahr: 1962\tHauptdarsteller: Sean Connery\tDeutscher Titel: James Bond jagt Dr. No\tOriginaltitel: Dr. No Inhalt: Nachdem auf der jamaikanischen Insel Kreb Key der britische Agent Strangways ermordet wird und der routinemäßige Anruf seiner Sekretärin nach London ausbleibt, schlägt man beim Geheimdienst Ihrer Majestät Alarm. Man beauftragt den Agenten mit der Decknummer 007 nach Jamaika zu fliegen und herauszufinden weshalb keine Antwort gekommen ist. Nachdem die Mitteilung 007 im Casino erreicht hat, begibt sich dieser (zum ersten mal in der Filmgeschichte) ins Hauptquartier von Universal Export’s“ zu seinem Chef „M“. Dort erfährt Bond, nach dem üblichen Plausch mit Miss Moneypenny, seinen neuen Auftrag. Noch dazu bekommt er einen Vortrag über seine alte Beretta und erhält eine neue Waffe, eine Walther PPK, vom Waffenmeister Major Boothroyd (somit war ein neues Markenzeichen ála 007 geboren). Bereits am Flughafen wird James Bond beobachtet. Als ihm die Gegenseite einen Chauffeur zur Verfügung stellt, Bond diesen nach einer kurzen Auseinandersetzung ausschaltet fährt er weiter und lernt einige Freunde von Strangways kennen. Unter diesen Freunden wird Bond auch auf den verdächtigen Professor Dent aufmerksam, auf den er später noch treffen wird. Außerdem stößt Bond auf den Fischer Quarrel und lernt den amerikanischen CIA-Agenten Felix Leiter kennen, die später beide zu den besten Freunden von 007 gehören. Bond stattet Professor Dent einen weiteren Besuch ab, und ihm wird klar dass Strangeways herausgefunden hat, dass die Gesteinsproben von der Insel Crab Key radioaktiv verseucht sind. Dent ist jedoch absolut anderer Meinung und somit entlarvt Bond ihn als Lügner und tötet diesen letztendlich. Da man Strangway’s Tod mit dem seltsamen Asiaten Dr. No in Verbindung bringt, entwickelt 007 einen Plan und macht sich mit Quarrel auf den Weg zur privaten Insel von Dr. No: Crab Key. Dort treffen die beiden auf die wunderschöne Muscheltaucherin Honey Rider und werden einige Zeit später von Dr. No’s Männern erkannt und schaffen es immer wieder ihnen zu entkommen. Schließlich werden sie von einem „Feuer speienden Drachen“ erwischt und Quarrel kommt dabei ums Leben. James und Honey werden gefangen genommen und verbringen das Abendessen mit dem geheimnisvollen Dr. No. Dabei erfährt 007 einiges über seinen teuflischen Plan: Dr. No will die Raketenstarts der NASA von Crab Key aus manipulieren und somit Rache an die westliche Welt ausüben. Bond gelingt es jedoch den Chinesen zu stoppen, Honey zu retten und schlussendlich die Insel in die Luft zu sprengen\",\n",
    "\"Filmnummer: 2\tJahr: 1963\tHauptdarsteller: Sean Connery\tDeutscher Titel: Liebesgrüße aus Moskau Originaltitel: From Russia With Love Inhalt: Die Verbrecherorganisation PHANTOM will drei Fliegen mit einer Klappe schlagen: Sie wollen eine besonders wertvolle Dechiffriermaschine (Lector) aus dem russischen Konsulat in Istanbul bekommen, den britischen und russischen Geheimdienst gegeneinander ausspielen und den besten Agenten Ihrer Majestät, James Bond 007, töten und gleichzeitig an ihm wegen dessen Ermordung ihres besten Mitarbeiters Dr. No Rache nehmen. Deshalb benutzen sie Bond, auf den sie die hübsche Romanova abgesetzt haben, um an die Dechiffriermaschine zu gelangen. 007 riecht jedoch den Köder und setzt alles daran, PHANTOM zu überlisten und selbst mit der Lector zu fliehen. Bei seiner Flucht mit dem Orientexpress aus Istanbul Richtung Italien kommt es zu einem fulminanten Aufeinandertreffen zwischen Bond und dem Phantommitarbeiter Grant\",\n",
    "\"Filmnummer: 3\tJahr: 1964\tHauptdarsteller: Sean Connery\tDeutscher Titel: Goldfinger Originaltitel: Goldfinger Inhalt: Auric Goldfinger ist ein gewöhnlicher Juwelier. Oder doch nicht? James Bond soll herauszufinden wie bzw. ob Goldfinger neben seinen gut laufenden Geschäften auch Gold schmuggelt. 007 verfolgt Goldfinger über Miami, England bis in die Schweiz, wo Goldfinger Bond auf die Schliche kommt und ihn töten lassen will. Doch Bond kennt Goldfingers höllischen Plan: Er will die größte Bank der Welt, Fort Knox, atomar verseuchen\",\n",
    "\"Filmnummer: 4\tJahr: 1965\tHauptdarsteller: Sean Connery\tDeutscher Titel: Feuerball Originaltitel: Thunderball Inhalt: Der skrupellose Mitarbeiter „Largo“ der Verbrecherorganisation Spectre stiehlt ein Natoflugzeug mit 2 Atombomben an Board. Spectre’s Forderung: 300 Millionen britische Pfund oder es werden 2 Großstädte der Welt von ihnen vernichtet. Dem britischen Geheimdienst ist klar, für diesen Auftrag kann es nur einen geben: 007! Doch die Zeit ist knapp, das Ultimatum läuft in Kürze ab. Doch der frisch erhohlte James Bond folgt einer Spur und reist auf die Bahamas, wo er auf die wunderschöne Domino trifft\",\n",
    "\"Filmnummer: 5\tJahr: 1967\tHauptdarsteller: Sean Connery\tDeutscher Titel: Man lebt nur zweimal\tOriginaltitel: You Only Live Twice Inhalt: Als plötzlich eine amerikanische und eine sowjetische Weltraumkapsel von einem unbekannten Raumschiff entführt werden, beschuldigen sich beide Großmächte gegenseitig des Diebstahles. Ein Atomkrieg steht also kurz bevor. Der britische Geheimdienst MI6 glaubt jedoch zu wissen, wo das Raumschiff gelandet ist: in Japan. Der eigentlich für tot gehaltene James Bond wird daher nach Japan geschickt, und nimmt dort mit dem Chef des japanischen Geheimdienstes „Tiger Tanaka“ Kontakt auf. Beide stoßen bei ihren Untersuchungen schon bald auf einen alten Bekannten: Ernst Stavro Blofeld!\",\n",
    "\"Filmnummer: 6  Jahr: 1969  Hauptdarsteller: George Lazenby  Deutscher Titel: Im Geheimdienst Ihrer Majestät Originaltitel: On Her Majesty’s Secret Service Inhalt: James Bond wird nach zweijähriger, erfolgloser Jagd auf Ernst Stavro Blofeld von seinem Auftrag, ihn zu finden, entbunden. Daraufhin kündigt Bond seinen Dienst und möchte den Secret Service verlassen. Miss Moneypenny können wir es jedoch verdanken, dass es nur 2 Wochen geworden sind und 007 auch in seinem Urlaub weiterhin Nachforschungen über Blofeld unternimmt. Seine Spur führt ihn in die Schweizer Alpen. Nebenbei verliebt sich Bond in die exzentrische, wunderschöne Tracy, was sein Leben nicht unbedingt leichter macht\",\n",
    "\"Filmnummer: 7  Jahr: 1971  Hauptdarsteller: Sean Connery  Deutscher Titel: Diamantenfieber Originaltitel: Diamonds Are Forever Inhalt: Nach dem Tod seiner Frau sucht Bond nach seinem Erzfeind Ernst Stavro Blofeld um Rache zu nehmen. Was ihm auch gelingt… oder doch nicht? Wie es sich herausstellt, hat Blofeld dieses mal einige Doppelgänger. Jedenfalls wird James nach Amerika geschickt, um Diamantenschmugglern auf die Spur zu kommen. Und wiederum gibt es ein Treffen mit Blofeld. Schafft es 007, seinen Erzfeind dieses Mal endgültig außer Gefecht setzen?\",\n",
    "\"Filmnummer: 8  Jahr: 1973  Hauptdarsteller: Roger Moore  Deutscher Titel: Leben und sterben lassen Originaltitel: Live And Let Die Inhalt: Als aus mysteriösen Gründen 3 Männer zur selben Zeit an verschiedenen Orten getötet werden, wird James Bond nach New York geschickt. Denn angeblich steckt hinter den ganzen Morden ein Drogenschmuggler namens „Mr. Big“. Dieser schwört auf eine Kartenleserin, Miss Solitär, die ihm stets seine Zukunft richtig voraussagt. Bis sie James Bond kennenlernt. Durch ihre Hilfe kommt 007 „Mr. Big“ auf die Spur und rettet die Welt vor einem „Drogen-Fiasko“.\",\n",
    "\"Filmnummer: 9  Jahr: 2024  Hauptdarsteller: Roger Moore  Deutscher Titel: Der Mann mit dem goldenen Colt Originaltitel: The Man With The Golden Gun Inhalt: Als plötzlich eine goldene Kugel mit der Aufschrift 007 nach London zum britischen Geheimdienst geschickt wird, macht sich Bond auf die Suche nach dem Absender. Seine Reise führt ihn nach Hongkong und zum „bescheidenen“ Aufenthaltsort von Francisco Scaramanga, dem bestbezahltesten Killer der Welt, der jedes seiner Opfer mit einem Schuss ermordet. 007 soll der Nächste sein.\",\n",
    "\"Filmnummer: 10  Jahr: 1977  Hauptdarsteller: Roger Moore  Deutscher Titel: Der Spion, der mich liebte Originaltitel: The Spy Who Loved Me Inhalt: Während Bond beim Skifahren in Österreich nur knapp einem Anschlag der Russen entgeht, wird ein U-Boot-Ortungsgerät von unbekannten Tätern gestohlen. Daraufhin beschließen England und Russland, ihre beiden Topagenten, James Bond und Anya Amasova auf den Fall anzusetzen. Ihre Untersuchungen führen sie zum Unterwasserlaboratorium von Reeder Stromberg.\",\n",
    "\"Filmnummer: 11  Jahr: 1979  Hauptdarsteller: Roger Moore  Deutscher Titel: Moonraker – Streng geheim Originaltitel: Moonraker Inhalt: Als ein Moonraker-Shuttle vom Rücken einer Boing 707 gestohlen wird, wird Topagent 007 auf den Multimillionär und Moonraker-Besitzer Hugo Drax angesetzt. Bond erfährt, dass dieser die Weltbevölkerung ausrotten, und eine neue, eigene Rasse erschaffen will, welche im Weltall entstehen soll. Bond versucht alles, um dessen teuflischen Plan zu zerstören.\",\n",
    "\"Filmnummer: 12  Jahr: 1981  Hauptdarsteller: Roger Moore  Deutscher Titel: In tödlicher Mission Originaltitel: For Your Eyes Only Inhalt: Als vor der griechischen Insel Korfu ein britisches Spionageschiff unter- und dabei ein Steuerungsgerät verloren- geht, wird Agent 007 auf diesen Auftrag angesetzt. Seine erste Fährte führt ihn zum Winterskigebiet Cortina d`Ampezzo. Der mit einer Frau (Melina) verbündete Bond, kommt dem Millionär Kristatos auf die Spur und verfolgt diesen bis auf ein Kloster auf einem riesen Felsen. Dort kommt es zum Showdown bei dem auch ein alter Bekannter wieder gesichtet wird: General Gogol!\",\n",
    "\"Filmnummer: 13  Jahr: 1983  Hauptdarsteller: Roger Moore  Deutscher Titel: Octopussy Originaltitel: Octopussy Inhalt: Der in Berlin ermordete Agent 009 wird mit einem unbezahlbaren Fabergé-Ei in der Hand gefunden. Das Ei war jedoch eine Kopie, was aber bis dahin keiner wusste. Dem MI6 ist deshalb klar, dass jemand das Original um jeden Preis in seine Hände bekommen will. Glücklicherweise findet auch schon bald die nächste Auktion statt. Als ein Prinz Khan aus Indien das Ei um eine unbezahlbare Summer erwirbt, hängt sich Bond an seine Fersen an. Bonds Reise führt ihn zur geheimnisvollen Octopussy und schlussendlich auch wieder zurück nach Good-Old-Germany\",\n",
    "\"Filmnummer: 14  Jahr: 1985  Hauptdarsteller: Roger Moore  Deutscher Titel: Im Angesicht des Todes Originaltitel: A View To A Kill Inhalt: Als es Bond gelingt, einen Mikrochip aus Sibirien mitzubringen, stellt sich heraus, dass dieser sogar eine Atomexplosion überstehen würde. Warum? Dieser Sache soll 007 auf den Grund gehen, und seine Spur führt ihn zum Psychopaten und Millionär Max Zorin. Gemeinsam mit seinem alten Kollegen und Pferdeliebhaber „Tibbet“ tarnt 007 als Adeliger und Chauffeur. Beide machen sich auf den Weg das Geheimnis zu lüften, warum Zorins Pferde bei jedem Rennen gewinnen. Es stellt sich heraus, dass diese alle einen Mikrochip implantiert haben. Bonds Reise führt ihn über Frankreich ins Silicon Valley und schlussendlich zur Golden Gate Bridge, wo es zum letzten Kampf zwischen Bond und Zorin kommt.\",\n",
    "\"Filmnummer: 15  Jahr: 1987  Hauptdarsteller: Timothy Dalton  Deutscher Titel: Der Hauch des Todes Originaltitel: The Living Daylights Inhalt: Bond wird nach Bratislava geschickt um den russischen Agenten Koskov per Pipeline nach Österreich überlaufen zu lassen. Da der russische Agent nur knapp einem Anschlag entgangen ist, fährt Bond noch einmal nach Bratislava zurück und lernt dort die wunderschöne Kara kennen, die der Sniperschütze war, der Koskov hätte töten sollen. Als sich herausstellt, dass das mögliche Attentat auf Koskov nur gestellt war, fliehen beide wieder zurück nach Österreich und schließlich über Wien nach Tanger. Dort stellt sich heraus, dass einige Drogen- und Waffenschmuggler hinter der gesamten Affäre um Koskov stecken.\",\n",
    "\"Filmnummer: 16  Jahr: 1989  Hauptdarsteller: Timothy Dalton  Deutscher Titel: Lizenz zum Töten Originaltitel: Licence To Kill Inhalt: Kurz vor der Hochzeit von Felix Leiter kommt die Meldung, das Drogenboss Sanchez per Flugzeug in der Nähe unterwegs sei. Diese Chance lassen sich die beiden, Bond und Leiter, nicht entgehen und fangen den Bösewicht. Dieser kommt aber einige Tage später wieder frei, tötet Leiters Frau und verletzt diesen selbst schwer! Was folgt ist ein beispielsloser Rachefeldzug vom verletzen und verärgerten James Bond… Nebenbei zerstört 007 noch Sanchez‘ riesiges Drogenlager und kann mit Hilfe einiger atemberaubenden LKW-Stunts Sanchez und dessen Handlanger schließlich zur Strecke bringen.\",\n",
    "\"Filmnummer: 17  Jahr: 1995  Hauptdarsteller: Pierce Brosnan  Deutscher Titel: GoldenEye Originaltitel: GoldenEye Inhalt: Der für tot gehaltene Ex-Kollege von James Bond, 006 Alec Trevelyan, „steht von den Toten auf“ und versucht mit dem Super-Satelliten „Goldeneye“, der alle elektronische Geräte in einem Umkreis von einigen Kilometern ausschalten kann, den größten Diebstahl aller Zeiten zu unternehmen.\",\n",
    "]"
   ]
  },
  {
   "cell_type": "markdown",
   "metadata": {
    "id": "r0ITzIsgSqQ-"
   },
   "source": [
    "## Create a vector db (in-memory)"
   ]
  },
  {
   "cell_type": "code",
   "execution_count": null,
   "metadata": {
    "executionInfo": {
     "elapsed": 23040,
     "status": "ok",
     "timestamp": 1732608888353,
     "user": {
      "displayName": "Marco Frodl",
      "userId": "15184785398550850138"
     },
     "user_tz": -60
    },
    "id": "8YVJ1rY8HeQK"
   },
   "outputs": [],
   "source": [
    "#from langchain_chroma import Chroma\n",
    "\n",
    "#store_movies = Chroma.from_texts(\n",
    "#    collection_name=\"movies\",\n",
    "#    texts=docs_movies,\n",
    "#    embedding=embeddings,\n",
    "#    persist_directory=\"./chroma_db\",  # Where to save data locally, delete this folder to reset the data\n",
    "#)\n",
    "\n",
    "from langchain_qdrant import QdrantVectorStore\n",
    "\n",
    "# create in-memory vector db for Bond movies\n",
    "store_movies = QdrantVectorStore.from_texts(\n",
    "    docs_movies,\n",
    "    embeddings,\n",
    "    location=\":memory:\",  # Local mode with in-memory storage only just for the demo\n",
    "    collection_name=\"movies\",\n",
    "    force_recreate=True,\n",
    ")"
   ]
  },
  {
   "cell_type": "markdown",
   "metadata": {
    "id": "VPbz7p4gbmf1"
   },
   "source": [
    "## Search in vector db"
   ]
  },
  {
   "cell_type": "markdown",
   "metadata": {
    "id": "o5nLeENtemIA"
   },
   "source": [
    "### Similarity search w/o score"
   ]
  },
  {
   "cell_type": "code",
   "execution_count": null,
   "metadata": {
    "colab": {
     "base_uri": "https://localhost:8080/"
    },
    "executionInfo": {
     "elapsed": 1044,
     "status": "ok",
     "timestamp": 1732608889395,
     "user": {
      "displayName": "Marco Frodl",
      "userId": "15184785398550850138"
     },
     "user_tz": -60
    },
    "id": "3FQ33FxxdhRB",
    "outputId": "58641a37-1dee-4f89-810f-5dfd59804c00"
   },
   "outputs": [],
   "source": [
    "query = \"Which movie is about a device in the Russian embassy? Who is the main actor and when was it released?\"\n",
    "\n",
    "found_docs = store_movies.similarity_search(query)\n",
    "print(found_docs[0].page_content)\n",
    "print(found_docs[0].metadata)"
   ]
  },
  {
   "cell_type": "markdown",
   "metadata": {
    "id": "ojvwjyYMejO5"
   },
   "source": [
    "### Similarity search with score"
   ]
  },
  {
   "cell_type": "code",
   "execution_count": null,
   "metadata": {
    "colab": {
     "base_uri": "https://localhost:8080/"
    },
    "executionInfo": {
     "elapsed": 1297,
     "status": "ok",
     "timestamp": 1732357373099,
     "user": {
      "displayName": "Marco Frodl",
      "userId": "15184785398550850138"
     },
     "user_tz": -60
    },
    "id": "KF_Mng1CegbW",
    "outputId": "6e8ec193-0e59-40e9-dcd8-d5142a1aaee4"
   },
   "outputs": [],
   "source": [
    "query = \"Which movie is about a device in the Russian embassy? Who is the main actor and when was it released?\"\n",
    "\n",
    "found_docs = store_movies.similarity_search_with_score(query)\n",
    "print(f\"Ergebnisse: {len(found_docs)}\")\n",
    "\n",
    "document, score = found_docs[0]\n",
    "print(document.page_content)\n",
    "print(f\"Score: {score}\")\n",
    "\n",
    "document, score = found_docs[1]\n",
    "print(document.page_content)\n",
    "print(f\"Score: {score}\")"
   ]
  },
  {
   "cell_type": "code",
   "execution_count": null,
   "metadata": {
    "colab": {
     "base_uri": "https://localhost:8080/"
    },
    "executionInfo": {
     "elapsed": 1460,
     "status": "ok",
     "timestamp": 1732359539304,
     "user": {
      "displayName": "Marco Frodl",
      "userId": "15184785398550850138"
     },
     "user_tz": -60
    },
    "id": "d4gZjn-Niy2c",
    "outputId": "cbd0c397-21e8-4136-f64f-11a11792a2d1"
   },
   "outputs": [],
   "source": [
    "query = \"A young man comes to Bel Air\"\n",
    "\n",
    "found_docs = store_movies.similarity_search_with_score(query)\n",
    "\n",
    "if found_docs:\n",
    "  document, score = found_docs[0]\n",
    "  print(document.page_content)\n",
    "  print(f\"Score: {score}\")\n",
    "\n",
    "if not found_docs:\n",
    "  print(\"No results found\")\n",
    "\n",
    "# because we ask the vector db to give us the nearest vector for our query we always get a result - even if it's bad"
   ]
  },
  {
   "cell_type": "code",
   "execution_count": null,
   "metadata": {
    "colab": {
     "base_uri": "https://localhost:8080/"
    },
    "executionInfo": {
     "elapsed": 1475,
     "status": "ok",
     "timestamp": 1732359551549,
     "user": {
      "displayName": "Marco Frodl",
      "userId": "15184785398550850138"
     },
     "user_tz": -60
    },
    "id": "WSRfwss8rFNG",
    "outputId": "40fc53c1-eea4-40d2-a6c4-836a7378e440"
   },
   "outputs": [],
   "source": [
    "query = \"A young man comes to Bel Air\"\n",
    "\n",
    "found_docs = store_movies.similarity_search_with_score(query, score_threshold=0.30)\n",
    "\n",
    "if found_docs:\n",
    "  document, score = found_docs[0]\n",
    "  print(document.page_content)\n",
    "  print(f\"Score: {score}\")\n",
    "\n",
    "if not found_docs:\n",
    "  print(\"No results found\")\n",
    "\n",
    "# NOTE: for embedding model text-embedding-3-large a threshold of 0.30 could be a good fit. This value will be different if you use another embedding model!"
   ]
  },
  {
   "cell_type": "code",
   "execution_count": null,
   "metadata": {
    "colab": {
     "base_uri": "https://localhost:8080/"
    },
    "executionInfo": {
     "elapsed": 1341,
     "status": "ok",
     "timestamp": 1732357391809,
     "user": {
      "displayName": "Marco Frodl",
      "userId": "15184785398550850138"
     },
     "user_tz": -60
    },
    "id": "A3TGYcDEjDSg",
    "outputId": "5daa45c9-602a-4ed9-8932-2058ee287fc5"
   },
   "outputs": [],
   "source": [
    "query = \"Which movie is about a device in the Russian embassy? Who is the main actor and when was it released?\"\n",
    "\n",
    "my_k = 3\n",
    "found_docs = store_movies.similarity_search_with_score(query,k=my_k)\n",
    "document, score = found_docs[0]\n",
    "\n",
    "print(document.page_content)\n",
    "print(document.metadata)\n",
    "print(f\"Score: {score}\")\n",
    "\n",
    "if len(found_docs) == my_k:\n",
    "  document, score = found_docs[1]\n",
    "  print(\"----------------------\")\n",
    "  print(document.page_content)\n",
    "  print(f\"Score: {score}\")\n",
    "  \n",
    "  document, score = found_docs[2]\n",
    "  print(\"----------------------\")\n",
    "  print(document.page_content)\n",
    "  print(f\"Score: {score}\")\n",
    "\n",
    "# \"Which movie features ....\" -> we want one result -> k=1\n",
    "# \"List all movies with Sean Connery\" -> more than one -> k>1\n",
    "# there is not one correct answer - it deppends on your needs\n",
    "# Pro solution: using AI workflows to let the AI decide what the best k value could be"
   ]
  },
  {
   "cell_type": "markdown",
   "metadata": {
    "id": "rn4nosl8fMCy"
   },
   "source": [
    "## Simple RAG"
   ]
  },
  {
   "cell_type": "markdown",
   "metadata": {
    "id": "FY0-e7rwjhe-"
   },
   "source": [
    "### Let's define our own prompt"
   ]
  },
  {
   "cell_type": "code",
   "execution_count": null,
   "metadata": {
    "executionInfo": {
     "elapsed": 229,
     "status": "ok",
     "timestamp": 1732608895544,
     "user": {
      "displayName": "Marco Frodl",
      "userId": "15184785398550850138"
     },
     "user_tz": -60
    },
    "id": "K2nUs-LAjmIF"
   },
   "outputs": [],
   "source": [
    "# Define Prompt for AI answers\n",
    "from langchain import PromptTemplate\n",
    "\n",
    "# Prompt template for English output\n",
    "prompt_template_en = \"\"\"Use the following pieces of context to answer the user's question as accurately, concisely, and specifically as possible.\n",
    "Avoid including unrelated or speculative information, and base your answer strictly on the provided context.\n",
    "The answer must start with the phrase \"Great question!\" followed by the response.\n",
    "Write the answer in English.\n",
    "\n",
    "If the answer cannot be explicitly found or directly inferred from the context, respond with: 'I can't find an answer to this question.'\n",
    "\n",
    "Context:\n",
    "{context}\n",
    "\n",
    "Question: {question}\n",
    "\n",
    "Answer:\n",
    "\"\"\"\n",
    "\n",
    "# Let's convert our string into a prompt template\n",
    "prompt = PromptTemplate.from_template(prompt_template_en)"
   ]
  },
  {
   "cell_type": "markdown",
   "metadata": {
    "id": "NPitfaUwqjA4"
   },
   "source": [
    "### Define and run the simple qa chain with LangChain default prompt"
   ]
  },
  {
   "cell_type": "code",
   "execution_count": null,
   "metadata": {
    "colab": {
     "base_uri": "https://localhost:8080/"
    },
    "executionInfo": {
     "elapsed": 3208,
     "status": "ok",
     "timestamp": 1732609324507,
     "user": {
      "displayName": "Marco Frodl",
      "userId": "15184785398550850138"
     },
     "user_tz": -60
    },
    "id": "Or_rl0Mzqj25",
    "outputId": "9c339a77-56b4-4f21-8567-dc76bfd4732a"
   },
   "outputs": [],
   "source": [
    "# https://python.langchain.com/api_reference/langchain/chains/langchain.chains.retrieval_qa.base.RetrievalQA.html\n",
    "# Create a RetrievalQA chain with the Qdrant retriever for movies using our LLM\n",
    "from langchain.chains import RetrievalQA\n",
    "\n",
    "my_k = 3\n",
    "simple_qa_chain = RetrievalQA.from_chain_type(llm, retriever=store_movies.as_retriever(search_kwargs={\"k\":my_k,}))\n",
    "\n",
    "# Get the answer from the QA chain\n",
    "response = simple_qa_chain.invoke({\"query\":\"Which movie is about a device in the Russian embassy? Who is the main actor and when was it released?\"},{\"callbacks\":[handler]})\n",
    "\n",
    "# Print the answer\n",
    "print(response['result'])"
   ]
  },
  {
   "cell_type": "markdown",
   "metadata": {
    "id": "amM_hJUyjnjG"
   },
   "source": [
    "### Define and run the simple qa chain with our custom prompt"
   ]
  },
  {
   "cell_type": "code",
   "execution_count": null,
   "metadata": {
    "colab": {
     "base_uri": "https://localhost:8080/"
    },
    "executionInfo": {
     "elapsed": 3167,
     "status": "ok",
     "timestamp": 1732609620356,
     "user": {
      "displayName": "Marco Frodl",
      "userId": "15184785398550850138"
     },
     "user_tz": -60
    },
    "id": "afxUbzAuffGt",
    "outputId": "6fcc7fd8-e2c6-41a8-bc98-16b2a6fbad7a"
   },
   "outputs": [],
   "source": [
    "# https://python.langchain.com/api_reference/langchain/chains/langchain.chains.retrieval_qa.base.RetrievalQA.html\n",
    "# Create a RetrievalQA chain with the Qdrant retriever for movies using our LLM\n",
    "from langchain.chains import RetrievalQA\n",
    "\n",
    "my_k = 3\n",
    "simple_qa_chain = RetrievalQA.from_chain_type(llm, retriever=store_movies.as_retriever(search_kwargs={\"k\":my_k,}), chain_type_kwargs={\"prompt\": prompt})\n",
    "\n",
    "# Get the answer from the QA chain\n",
    "response = simple_qa_chain.invoke({\"query\":\"Which movie is about a device in the Russian embassy? Who is the main actor and when was it released?\"},{\"callbacks\":[handler]})\n",
    "\n",
    "# Print the answer\n",
    "print(response['result'])"
   ]
  }
 ],
 "metadata": {
  "colab": {
   "authorship_tag": "ABX9TyNV3Pq5rlFFG+i3MgG+DwhJ",
   "provenance": [
    {
     "file_id": "1_a5zHA2IFUI4dCGgmi5DwgIAHttd0A6O",
     "timestamp": 1732356467573
    },
    {
     "file_id": "1ek9k8pozrDKv0qdJbfa6amgPrIMRp80m",
     "timestamp": 1732280810980
    },
    {
     "file_id": "14hP4Ld97QlJdWTBaHU2I2e0ZzMUw-WF-",
     "timestamp": 1710422537489
    },
    {
     "file_id": "1D2QriJvCzNUdU__n7VEWxebiYVnF1GwO",
     "timestamp": 1704649306386
    }
   ]
  },
  "kernelspec": {
   "display_name": "Python 3",
   "name": "python3"
  },
  "language_info": {
   "codemirror_mode": {
    "name": "ipython",
    "version": 3
   },
   "file_extension": ".py",
   "mimetype": "text/x-python",
   "name": "python",
   "nbconvert_exporter": "python",
   "pygments_lexer": "ipython3",
   "version": "3.11.11"
  }
 },
 "nbformat": 4,
 "nbformat_minor": 0
}
