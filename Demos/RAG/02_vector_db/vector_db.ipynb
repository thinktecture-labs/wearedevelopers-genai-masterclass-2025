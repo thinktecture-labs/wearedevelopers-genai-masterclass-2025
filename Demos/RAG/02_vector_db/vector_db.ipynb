{
 "cells": [
  {
   "cell_type": "markdown",
   "metadata": {},
   "source": [
    "# Vector DB Sample\n"
   ]
  },
  {
   "cell_type": "code",
   "execution_count": null,
   "metadata": {},
   "outputs": [],
   "source": [
    "%pip install chromadb==1.0.15\n",
    "%pip install sentence-transformers==5.0.0\n",
    "%pip install langchain==0.3.26\n",
    "%pip install langchain-community==0.3.27\n",
    "%pip install langchain-chroma==0.2.4\n",
    "%pip install langchain-huggingface==0.3.0"
   ]
  },
  {
   "cell_type": "code",
   "execution_count": null,
   "metadata": {},
   "outputs": [],
   "source": [
    "from langchain_huggingface import HuggingFaceEmbeddings\n",
    "from langchain_chroma import Chroma\n",
    "\n",
    "# prepare the embedding model\n",
    "embedding_function = HuggingFaceEmbeddings(model_name = 'intfloat/multilingual-e5-large')\n",
    "\n",
    "# prepare the vector db\n",
    "db = Chroma(embedding_function = embedding_function, persist_directory = './chromadb/')"
   ]
  },
  {
   "cell_type": "code",
   "execution_count": null,
   "metadata": {},
   "outputs": [],
   "source": [
    "# prepare the data and load it to the db\n",
    "\n",
    "texts = [\n",
    "    'The sun generates its energy through nuclear fusion. In its core, hydrogen atoms fuse into helium under extreme pressure and at very high temperatures. This process releases enormous amounts of energy that reach Earth as light and heat.',\n",
    "    'The sun is a star of enormous size and mass. It has a diameter of about 1.4 million kilometers, which is approximately 109 times the diameter of the Earth. The mass of the sun accounts for about 99.86% of the total mass of the solar system.',\n",
    "    'The sun undergoes an approximately 11-year activity cycle, which is measured by the number and distribution of sunspots. These cycles vary in intensity and can influence space weather and communication technology on Earth.',\n",
    "    'The sun consists mainly of hydrogen (about 75% of its mass) and helium (about 24% of its mass). The remaining 1% contains heavier elements such as oxygen, carbon, neon, and iron.',\n",
    "    'The sun continuously emits a stream of charged particles known as the solar wind. This wind travels through the solar system and interacts with planetary magnetic fields and atmospheres, which can lead to the formation of auroras, among other things.',\n",
    "    'The temperature of the sun varies depending on the layer. In the core of the sun, where nuclear fusion takes place, temperatures reach about 15 million degrees Celsius (27 million degrees Fahrenheit). This is incomparably hotter than common processes and states we experience on Earth. On the visible surface of the sun, the photosphere, the temperature is about 5,500 degrees Celsius (about 9,932 degrees Fahrenheit). The temperature rises again in the solar atmosphere, specifically in the corona, where it can reach millions of degrees. These extremely hot temperatures are paradoxical because one would expect the temperature to decrease away from the heat source. This phenomenon, known as the coronal heating problem, is still the subject of intense research and debate in astrophysics.',\n",
    "]\n",
    "\n",
    "db.add_texts(texts)"
   ]
  },
  {
   "cell_type": "code",
   "execution_count": null,
   "metadata": {},
   "outputs": [],
   "source": [
    "# query\n",
    "\n",
    "query = 'How big is the sun?'\n",
    "# query = 'How hot is the sun?'\n",
    "\n",
    "results = db.similarity_search_with_score(query)\n",
    "\n",
    "for result in results:\n",
    "    print(f'Score: {result[1]}')\n",
    "    print(f'Text:\\n{result[0].page_content}\\n\\n')"
   ]
  }
 ],
 "metadata": {
  "kernelspec": {
   "display_name": "genai-02-vector-db",
   "language": "python",
   "name": "python3"
  },
  "language_info": {
   "codemirror_mode": {
    "name": "ipython",
    "version": 3
   },
   "file_extension": ".py",
   "mimetype": "text/x-python",
   "name": "python",
   "nbconvert_exporter": "python",
   "pygments_lexer": "ipython3",
   "version": "3.11.13"
  }
 },
 "nbformat": 4,
 "nbformat_minor": 2
}
