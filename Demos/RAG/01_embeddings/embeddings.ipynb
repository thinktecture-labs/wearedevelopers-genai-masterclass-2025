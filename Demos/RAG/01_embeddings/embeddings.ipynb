{
 "cells": [
  {
   "cell_type": "markdown",
   "metadata": {},
   "source": [
    "# Embeddings: Semantics of the language\n",
    "\n",
    "We have some sentences and want to compare the semantic distance of them."
   ]
  },
  {
   "cell_type": "code",
   "execution_count": null,
   "metadata": {},
   "outputs": [],
   "source": [
    "%pip install sentence-transformers==5.0.0\n",
    "%pip install numpy==2.3.1"
   ]
  },
  {
   "cell_type": "markdown",
   "metadata": {},
   "source": [
    "## 1. The data"
   ]
  },
  {
   "cell_type": "code",
   "execution_count": 4,
   "metadata": {},
   "outputs": [],
   "source": [
    "sentences = [\n",
    "    'The dogs play with the ball on the grass',\n",
    "    'The pack rolls the round thing on a meadow',\n",
    "    'Die Hunde spielen mit dem Ball auf der Wiese',\n",
    "    'Das Rudel rollt das runde Ding auf dem Rasen herum',\n",
    "    'The balloon rises to the sky',\n",
    "    'The pigeon lands on the roof',\n",
    "]"
   ]
  },
  {
   "cell_type": "markdown",
   "metadata": {},
   "source": [
    "## 2. Create embeddings using Huggingface models\n",
    "\n",
    "Models can, for example, be found at the [https://huggingface.co/spaces/mteb/leaderboard](https://huggingface.co/spaces/mteb/leaderboard)"
   ]
  },
  {
   "cell_type": "code",
   "execution_count": 2,
   "metadata": {},
   "outputs": [
    {
     "name": "stderr",
     "output_type": "stream",
     "text": [
      "/opt/homebrew/Caskroom/miniconda/base/envs/genai-01-embeddings/lib/python3.11/site-packages/tqdm/auto.py:21: TqdmWarning: IProgress not found. Please update jupyter and ipywidgets. See https://ipywidgets.readthedocs.io/en/stable/user_install.html\n",
      "  from .autonotebook import tqdm as notebook_tqdm\n"
     ]
    },
    {
     "name": "stdout",
     "output_type": "stream",
     "text": [
      "[ 0.00696113  0.00294617 -0.03543508 ... -0.00045179 -0.03532086\n",
      " -0.01644677]\n",
      "1024\n",
      "1024\n",
      "1024\n",
      "1024\n",
      "1024\n",
      "1024\n"
     ]
    }
   ],
   "source": [
    "from sentence_transformers import SentenceTransformer\n",
    "\n",
    "model_name = 'intfloat/multilingual-e5-large'\n",
    "embedding_model = SentenceTransformer(model_name)\n",
    "\n",
    "embeddings = embedding_model.encode(sentences)\n",
    "\n",
    "print(embeddings[0])\n",
    "for embedding in embeddings:\n",
    "    print(len(embedding))\n"
   ]
  },
  {
   "cell_type": "code",
   "execution_count": 5,
   "metadata": {},
   "outputs": [
    {
     "name": "stdout",
     "output_type": "stream",
     "text": [
      "1.0000: The dogs play with the ball on the grass <-> The dogs play with the ball on the grass\n",
      "0.8134: The dogs play with the ball on the grass <-> The pack rolls the round thing on a meadow\n",
      "0.8993: The dogs play with the ball on the grass <-> Die Hunde spielen mit dem Ball auf der Wiese\n",
      "0.8116: The dogs play with the ball on the grass <-> Das Rudel rollt das runde Ding auf dem Rasen herum\n",
      "0.7384: The dogs play with the ball on the grass <-> The balloon rises to the sky\n",
      "0.7284: The dogs play with the ball on the grass <-> The pigeon lands on the roof\n",
      "1.0000: The pack rolls the round thing on a meadow <-> The pack rolls the round thing on a meadow\n",
      "0.7888: The pack rolls the round thing on a meadow <-> Die Hunde spielen mit dem Ball auf der Wiese\n",
      "0.8414: The pack rolls the round thing on a meadow <-> Das Rudel rollt das runde Ding auf dem Rasen herum\n",
      "0.7446: The pack rolls the round thing on a meadow <-> The balloon rises to the sky\n",
      "0.7437: The pack rolls the round thing on a meadow <-> The pigeon lands on the roof\n",
      "1.0000: Die Hunde spielen mit dem Ball auf der Wiese <-> Die Hunde spielen mit dem Ball auf der Wiese\n",
      "0.8659: Die Hunde spielen mit dem Ball auf der Wiese <-> Das Rudel rollt das runde Ding auf dem Rasen herum\n",
      "0.7294: Die Hunde spielen mit dem Ball auf der Wiese <-> The balloon rises to the sky\n",
      "0.7090: Die Hunde spielen mit dem Ball auf der Wiese <-> The pigeon lands on the roof\n",
      "1.0000: Das Rudel rollt das runde Ding auf dem Rasen herum <-> Das Rudel rollt das runde Ding auf dem Rasen herum\n",
      "0.7637: Das Rudel rollt das runde Ding auf dem Rasen herum <-> The balloon rises to the sky\n",
      "0.7450: Das Rudel rollt das runde Ding auf dem Rasen herum <-> The pigeon lands on the roof\n",
      "1.0000: The balloon rises to the sky <-> The balloon rises to the sky\n",
      "0.8296: The balloon rises to the sky <-> The pigeon lands on the roof\n",
      "1.0000: The pigeon lands on the roof <-> The pigeon lands on the roof\n"
     ]
    }
   ],
   "source": [
    "import numpy as np\n",
    "\n",
    "def cosine_similarity(left, right):\n",
    "    return np.dot(left, right) / (np.linalg.norm(left) * np.linalg.norm(right))\n",
    "\n",
    "for i, left in enumerate(sentences):\n",
    "    for j, right in enumerate(sentences):\n",
    "        if j < i:\n",
    "            continue\n",
    "        similarity = cosine_similarity(embeddings[i], embeddings[j])\n",
    "        print(f'{similarity:.4f}: {left} <-> {right}')\n"
   ]
  }
 ],
 "metadata": {
  "kernelspec": {
   "display_name": "genai-01-embeddings",
   "language": "python",
   "name": "python3"
  },
  "language_info": {
   "codemirror_mode": {
    "name": "ipython",
    "version": 3
   },
   "file_extension": ".py",
   "mimetype": "text/x-python",
   "name": "python",
   "nbconvert_exporter": "python",
   "pygments_lexer": "ipython3",
   "version": "3.11.13"
  },
  "polyglot_notebook": {
   "kernelInfo": {
    "defaultKernelName": "csharp",
    "items": [
     {
      "aliases": [],
      "name": "csharp"
     }
    ]
   }
  }
 },
 "nbformat": 4,
 "nbformat_minor": 2
}
