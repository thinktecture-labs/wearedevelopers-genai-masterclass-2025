{
 "cells": [
  {
   "cell_type": "markdown",
   "metadata": {},
   "source": [
    "# Semantic Kernel .NET Hello World\n",
    "\n",
    "This is a .NET Interactive Jupyter notebook. You need the Jupyter notebook extension and Polyglot notebooks installed in VS code.\n",
    "\n"
   ]
  },
  {
   "cell_type": "code",
   "execution_count": null,
   "metadata": {
    "dotnet_interactive": {
     "language": "csharp"
    },
    "polyglot_notebook": {
     "kernelName": "csharp"
    }
   },
   "outputs": [],
   "source": [
    "#r \"nuget: dotenv.net, 3.0.0\"\n",
    "#r \"nuget: Microsoft.SemanticKernel, 1.40.1\""
   ]
  },
  {
   "cell_type": "code",
   "execution_count": null,
   "metadata": {
    "dotnet_interactive": {
     "language": "csharp"
    },
    "polyglot_notebook": {
     "kernelName": "csharp"
    }
   },
   "outputs": [],
   "source": [
    "using System;\n",
    "using dotenv.net;\n",
    "\n",
    "\n",
    "DotEnv.Load();\n",
    "var envVars = DotEnv.Read();\n",
    "var openAiApiKey = System.Environment.GetEnvironmentVariable(\"OPENAI_API_KEY\") ?? envVars[(\"OPENAI_API_KEY\")];\n",
    "\n",
    "if (String.IsNullOrWhiteSpace(openAiApiKey))\n",
    "    throw new Exception(\"Please set your OpenAI API key to the OPENAI_API_KEY environment variable in .env\");"
   ]
  },
  {
   "cell_type": "markdown",
   "metadata": {},
   "source": [
    "## Create and use our first Kernel"
   ]
  },
  {
   "cell_type": "code",
   "execution_count": null,
   "metadata": {
    "dotnet_interactive": {
     "language": "csharp"
    },
    "polyglot_notebook": {
     "kernelName": "csharp"
    }
   },
   "outputs": [],
   "source": [
    "using Microsoft.SemanticKernel;\n",
    "\n",
    "var kernel = Kernel.CreateBuilder()\n",
    "    .AddOpenAIChatCompletion(modelId: \"gpt-4.1-nano\", apiKey: openAiApiKey)\n",
    "    .Build();"
   ]
  },
  {
   "cell_type": "markdown",
   "metadata": {},
   "source": [
    "### Ask our Kernel"
   ]
  },
  {
   "cell_type": "code",
   "execution_count": null,
   "metadata": {
    "dotnet_interactive": {
     "language": "csharp"
    },
    "polyglot_notebook": {
     "kernelName": "csharp"
    }
   },
   "outputs": [],
   "source": [
    "var prompt = \"You are an AI agent in a workshop at the WeAreDevelopers world congress. Please welcome all the attendees in Berlin.\";\n",
    "var response = await kernel.InvokePromptAsync(prompt);\n",
    "\n",
    "Console.WriteLine(response);"
   ]
  }
 ],
 "metadata": {
  "kernelspec": {
   "display_name": ".NET (C#)",
   "language": "C#",
   "name": ".net-csharp"
  },
  "language_info": {
   "name": "polyglot-notebook",
   "version": "3.11.7"
  },
  "polyglot_notebook": {
   "kernelInfo": {
    "defaultKernelName": "csharp",
    "items": [
     {
      "aliases": [],
      "name": "csharp"
     }
    ]
   }
  }
 },
 "nbformat": 4,
 "nbformat_minor": 2
}
